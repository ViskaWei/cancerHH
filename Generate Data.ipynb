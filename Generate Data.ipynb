{
 "cells": [
  {
   "cell_type": "code",
   "execution_count": 1,
   "metadata": {},
   "outputs": [
    {
     "name": "stdout",
     "output_type": "stream",
     "text": [
      "Populating the interactive namespace from numpy and matplotlib\n"
     ]
    }
   ],
   "source": [
    "%pylab inline\n",
    "import numpy as np\n",
    "import matplotlib.pyplot as plt\n",
    "import pandas as pd"
   ]
  },
  {
   "cell_type": "code",
   "execution_count": 2,
   "metadata": {},
   "outputs": [],
   "source": [
    "def RandNormalInt(mu, sigma, sample):\n",
    "    s=np.random.normal(mu, sigma, sample)\n",
    "    sint=s.astype(int)\n",
    "    return sint"
   ]
  },
  {
   "cell_type": "code",
   "execution_count": 3,
   "metadata": {},
   "outputs": [],
   "source": [
    "#random.seed(2)\n",
    "slist=[];\n",
    "mulist=[];\n",
    "for j in range(100):\n",
    "    x=np.random.randint(0,1+1,size=(20,1))\n",
    "    mu=0\n",
    "    for i in range(20):\n",
    "        mu=mu+x[i]*2**i\n",
    "    sigma=5\n",
    "    sample=100\n",
    "    mulist.extend(mu)\n",
    "    slist.extend(RandNormalInt(mu, sigma, sample))\n",
    "plt.hist(slist, 100)\n",
    "save = pd.DataFrame(slist).T\n",
    "savemu = pd.DataFrame(mulist) \n",
    "save.to_csv('randomdata.csv',index=False,header=False)\n",
    "savemu.to_csv('randommu.csv',index=False,header=False)"
   ]
  },
  {
   "cell_type": "code",
   "execution_count": 7,
   "metadata": {},
   "outputs": [
    {
     "data": {
      "text/plain": [
       "(1, 10000)"
      ]
     },
     "execution_count": 7,
     "metadata": {},
     "output_type": "execute_result"
    }
   ],
   "source": [
    "import torch\n",
    "import binreader\n",
    "shape(save)"
   ]
  },
  {
   "cell_type": "code",
   "execution_count": 22,
   "metadata": {},
   "outputs": [],
   "source": [
    "import math\n",
    "import numpy as np\n",
    "import copy\n",
    "import torch\n",
    "\n",
    "LARGEPRIME = 2**61-1\n",
    "\"\"\"\n",
    "Class which implements the Count Sketch algorithm and data structure. \n",
    "\"\"\"\n",
    "class CSVec(object):\n",
    "    \"\"\" Simple Count Sketched Vector \"\"\"\n",
    "    def __init__(self, d, c, r, k):\n",
    "        self.r, self.c, self.d, self.k = r, c, int(d), k \n",
    "        self.device = 'cuda'\n",
    "        \n",
    "        # initialize the sketch\n",
    "        self.table = torch.zeros((r, c), device=self.device)\n",
    "\n",
    "        torch.random.manual_seed(42)\n",
    "        self.hashes = torch.randint(0, LARGEPRIME, (r, 6),\n",
    "                                    dtype=torch.int64, device=self.device)\n",
    "        self.topk = torch.zeros((k,2), dtype=torch.int64, device=self.device)       \n",
    "   \n",
    "    \"\"\"Update the count sketch object with a vector vec of items\"\"\"\n",
    "    def accumulateVec(self, vec):\n",
    "        #assert(len(vec.size()) == 1 and vec.size()[0] == self.d)\n",
    "        \n",
    "        # the rest for not precomputed hashes case \n",
    "        h1, h2, h3, h4, h5, h6 = self.hashes[:,0:1], self.hashes[:,1:2],\\\n",
    "                                 self.hashes[:,2:3], self.hashes[:,3:4],\\\n",
    "                                 self.hashes[:,4:5], self.hashes[:,5:6]\n",
    "        \n",
    "        vals = torch.zeros(self.r, vec.size()[0],dtype=torch.int64, device=self.device)#\n",
    "        coords = torch.tensor(vec)\n",
    "        for r in range(self.r):\n",
    "            buckets = (vec.mul_(h1[r]).add_(h2[r]) % LARGEPRIME % self.c)\n",
    "            signs = ((vec.mul_(h3[r]).add_(h4[r]).mul_(vec).add_(h5[r])\\\n",
    "                      .mul_(vec).add_(h6[r])) % LARGEPRIME % 2).float().mul_(2).add_(-1)\n",
    "            self.table[r,:] += torch.bincount(input=buckets,\n",
    "                                              weights=signs,\n",
    "                                              minlength=self.c)\n",
    "\n",
    "            vals[r] = self.table[r, buckets] * signs\n",
    "\n",
    "        vals = vals.median(dim=0)[0]# this is their estimatesi\n",
    "        vals = torch.stack((vals, coords), dim=1)\n",
    "        print(self.topk)\n",
    "        for val in vals:#\n",
    "            in_heap = False\n",
    "            for el in self.topk:\n",
    "                if el[1] == val[1]:\n",
    "                    #update existing value\n",
    "                    #might double count if a lot of the same id are next to\n",
    "                    #eachother but this should be the same for everything \n",
    "                    el[0] += 1\n",
    "                    in_heap = True\n",
    "                    break\n",
    "            cutoff = torch.argmin(self.topk[:,0])\n",
    "            if ((not in_heap) and val[0] > self.topk[cutoff][0]):\n",
    "                    self.topk[cutoff] = val\n",
    "                    \n",
    "            #self.topk = torch.sort(self.topk, 0, descending=True)[0]\n",
    "\n",
    "                           \n",
    "    \"\"\"Given a vector of items coords, estimate their values based on the Count\n",
    "    Sketch data structure\"\"\"    \n",
    "    def findValues(self, coords):\n",
    "        # estimating frequency of input coordinates\n",
    "        vals = torch.zeros(self.r, coords.size()[0], device=self.device)\n",
    "        h1, h2, h3, h4, h5, h6 = self.hashes[:,0:1], self.hashes[:,1:2],\\\n",
    "                                  self.hashes[:,2:3], self.hashes[:,3:4],\\\n",
    "                                  self.hashes[:,4:5], self.hashes[:,5:6]\n",
    "        for r in range(self.r):\n",
    "            buckets = (coords.mul_(h1[r]).add_(h2[r]) % LARGEPRIME % self.c)\n",
    "            signs = ((coords.mul_(h3[r]).add_(h4[r]).mul_(coords).add_(h5[r])\\\n",
    "                      .mul_(coords).add_(h6[r])) % LARGEPRIME % 2).float().mul_(2).add_(-1) \n",
    "            vals[r] = (self.table[r, buckets]* signs)\n",
    "        \n",
    "        # take the median over rows in the sketch\n",
    "        return vals.median(dim=0)[0]\n",
    "\n",
    "    \"\"\"Return the current top k items of count sketch\"\"\"\n",
    "    def getTopk(self):\n",
    "        return self.topk"
   ]
  },
  {
   "cell_type": "code",
   "execution_count": 21,
   "metadata": {},
   "outputs": [
    {
     "ename": "ModuleNotFoundError",
     "evalue": "No module named 'csvec'",
     "output_type": "error",
     "traceback": [
      "\u001b[1;31m---------------------------------------------------------------------------\u001b[0m",
      "\u001b[1;31mModuleNotFoundError\u001b[0m                       Traceback (most recent call last)",
      "\u001b[1;32m<ipython-input-21-853fbf435457>\u001b[0m in \u001b[0;36m<module>\u001b[1;34m\u001b[0m\n\u001b[1;32m----> 1\u001b[1;33m \u001b[1;32mfrom\u001b[0m \u001b[0mcsvec\u001b[0m \u001b[1;32mimport\u001b[0m \u001b[1;33m*\u001b[0m\u001b[1;33m\u001b[0m\u001b[1;33m\u001b[0m\u001b[0m\n\u001b[0m",
      "\u001b[1;31mModuleNotFoundError\u001b[0m: No module named 'csvec'"
     ]
    }
   ],
   "source": [
    "#from csvec import *"
   ]
  },
  {
   "cell_type": "code",
   "execution_count": 19,
   "metadata": {},
   "outputs": [],
   "source": []
  },
  {
   "cell_type": "code",
   "execution_count": 23,
   "metadata": {},
   "outputs": [
    {
     "ename": "AssertionError",
     "evalue": "Torch not compiled with CUDA enabled",
     "output_type": "error",
     "traceback": [
      "\u001b[1;31m---------------------------------------------------------------------------\u001b[0m",
      "\u001b[1;31mAssertionError\u001b[0m                            Traceback (most recent call last)",
      "\u001b[1;32m<ipython-input-23-426b00d39ef2>\u001b[0m in \u001b[0;36m<module>\u001b[1;34m\u001b[0m\n\u001b[1;32m----> 1\u001b[1;33m \u001b[0mcs\u001b[0m \u001b[1;33m=\u001b[0m \u001b[0mCSVec\u001b[0m\u001b[1;33m(\u001b[0m\u001b[1;36m10\u001b[0m\u001b[1;33m,\u001b[0m\u001b[1;36m1000\u001b[0m\u001b[1;33m,\u001b[0m\u001b[1;36m5\u001b[0m\u001b[1;33m,\u001b[0m\u001b[1;36m1\u001b[0m\u001b[1;33m)\u001b[0m\u001b[1;33m\u001b[0m\u001b[1;33m\u001b[0m\u001b[0m\n\u001b[0m",
      "\u001b[1;32m<ipython-input-22-a575d430bffc>\u001b[0m in \u001b[0;36m__init__\u001b[1;34m(self, d, c, r, k)\u001b[0m\n\u001b[0;32m     15\u001b[0m \u001b[1;33m\u001b[0m\u001b[0m\n\u001b[0;32m     16\u001b[0m         \u001b[1;31m# initialize the sketch\u001b[0m\u001b[1;33m\u001b[0m\u001b[1;33m\u001b[0m\u001b[1;33m\u001b[0m\u001b[0m\n\u001b[1;32m---> 17\u001b[1;33m         \u001b[0mself\u001b[0m\u001b[1;33m.\u001b[0m\u001b[0mtable\u001b[0m \u001b[1;33m=\u001b[0m \u001b[0mtorch\u001b[0m\u001b[1;33m.\u001b[0m\u001b[0mzeros\u001b[0m\u001b[1;33m(\u001b[0m\u001b[1;33m(\u001b[0m\u001b[0mr\u001b[0m\u001b[1;33m,\u001b[0m \u001b[0mc\u001b[0m\u001b[1;33m)\u001b[0m\u001b[1;33m,\u001b[0m \u001b[0mdevice\u001b[0m\u001b[1;33m=\u001b[0m\u001b[0mself\u001b[0m\u001b[1;33m.\u001b[0m\u001b[0mdevice\u001b[0m\u001b[1;33m)\u001b[0m\u001b[1;33m\u001b[0m\u001b[1;33m\u001b[0m\u001b[0m\n\u001b[0m\u001b[0;32m     18\u001b[0m \u001b[1;33m\u001b[0m\u001b[0m\n\u001b[0;32m     19\u001b[0m         \u001b[0mtorch\u001b[0m\u001b[1;33m.\u001b[0m\u001b[0mrandom\u001b[0m\u001b[1;33m.\u001b[0m\u001b[0mmanual_seed\u001b[0m\u001b[1;33m(\u001b[0m\u001b[1;36m42\u001b[0m\u001b[1;33m)\u001b[0m\u001b[1;33m\u001b[0m\u001b[1;33m\u001b[0m\u001b[0m\n",
      "\u001b[1;32m~\\Anaconda3\\lib\\site-packages\\torch\\cuda\\__init__.py\u001b[0m in \u001b[0;36m_lazy_init\u001b[1;34m()\u001b[0m\n\u001b[0;32m    159\u001b[0m         raise RuntimeError(\n\u001b[0;32m    160\u001b[0m             \"Cannot re-initialize CUDA in forked subprocess. \" + msg)\n\u001b[1;32m--> 161\u001b[1;33m     \u001b[0m_check_driver\u001b[0m\u001b[1;33m(\u001b[0m\u001b[1;33m)\u001b[0m\u001b[1;33m\u001b[0m\u001b[1;33m\u001b[0m\u001b[0m\n\u001b[0m\u001b[0;32m    162\u001b[0m     \u001b[0mtorch\u001b[0m\u001b[1;33m.\u001b[0m\u001b[0m_C\u001b[0m\u001b[1;33m.\u001b[0m\u001b[0m_cuda_init\u001b[0m\u001b[1;33m(\u001b[0m\u001b[1;33m)\u001b[0m\u001b[1;33m\u001b[0m\u001b[1;33m\u001b[0m\u001b[0m\n\u001b[0;32m    163\u001b[0m     \u001b[0m_cudart\u001b[0m \u001b[1;33m=\u001b[0m \u001b[0m_load_cudart\u001b[0m\u001b[1;33m(\u001b[0m\u001b[1;33m)\u001b[0m\u001b[1;33m\u001b[0m\u001b[1;33m\u001b[0m\u001b[0m\n",
      "\u001b[1;32m~\\Anaconda3\\lib\\site-packages\\torch\\cuda\\__init__.py\u001b[0m in \u001b[0;36m_check_driver\u001b[1;34m()\u001b[0m\n\u001b[0;32m     73\u001b[0m \u001b[1;32mdef\u001b[0m \u001b[0m_check_driver\u001b[0m\u001b[1;33m(\u001b[0m\u001b[1;33m)\u001b[0m\u001b[1;33m:\u001b[0m\u001b[1;33m\u001b[0m\u001b[1;33m\u001b[0m\u001b[0m\n\u001b[0;32m     74\u001b[0m     \u001b[1;32mif\u001b[0m \u001b[1;32mnot\u001b[0m \u001b[0mhasattr\u001b[0m\u001b[1;33m(\u001b[0m\u001b[0mtorch\u001b[0m\u001b[1;33m.\u001b[0m\u001b[0m_C\u001b[0m\u001b[1;33m,\u001b[0m \u001b[1;34m'_cuda_isDriverSufficient'\u001b[0m\u001b[1;33m)\u001b[0m\u001b[1;33m:\u001b[0m\u001b[1;33m\u001b[0m\u001b[1;33m\u001b[0m\u001b[0m\n\u001b[1;32m---> 75\u001b[1;33m         \u001b[1;32mraise\u001b[0m \u001b[0mAssertionError\u001b[0m\u001b[1;33m(\u001b[0m\u001b[1;34m\"Torch not compiled with CUDA enabled\"\u001b[0m\u001b[1;33m)\u001b[0m\u001b[1;33m\u001b[0m\u001b[1;33m\u001b[0m\u001b[0m\n\u001b[0m\u001b[0;32m     76\u001b[0m     \u001b[1;32mif\u001b[0m \u001b[1;32mnot\u001b[0m \u001b[0mtorch\u001b[0m\u001b[1;33m.\u001b[0m\u001b[0m_C\u001b[0m\u001b[1;33m.\u001b[0m\u001b[0m_cuda_isDriverSufficient\u001b[0m\u001b[1;33m(\u001b[0m\u001b[1;33m)\u001b[0m\u001b[1;33m:\u001b[0m\u001b[1;33m\u001b[0m\u001b[1;33m\u001b[0m\u001b[0m\n\u001b[0;32m     77\u001b[0m         \u001b[1;32mif\u001b[0m \u001b[0mtorch\u001b[0m\u001b[1;33m.\u001b[0m\u001b[0m_C\u001b[0m\u001b[1;33m.\u001b[0m\u001b[0m_cuda_getDriverVersion\u001b[0m\u001b[1;33m(\u001b[0m\u001b[1;33m)\u001b[0m \u001b[1;33m==\u001b[0m \u001b[1;36m0\u001b[0m\u001b[1;33m:\u001b[0m\u001b[1;33m\u001b[0m\u001b[1;33m\u001b[0m\u001b[0m\n",
      "\u001b[1;31mAssertionError\u001b[0m: Torch not compiled with CUDA enabled"
     ]
    }
   ],
   "source": [
    "cs = CSVec(10,1000,5,1)"
   ]
  },
  {
   "cell_type": "code",
   "execution_count": null,
   "metadata": {},
   "outputs": [],
   "source": []
  }
 ],
 "metadata": {
  "kernelspec": {
   "display_name": "Python 3",
   "language": "python",
   "name": "python3"
  },
  "language_info": {
   "codemirror_mode": {
    "name": "ipython",
    "version": 3
   },
   "file_extension": ".py",
   "mimetype": "text/x-python",
   "name": "python",
   "nbconvert_exporter": "python",
   "pygments_lexer": "ipython3",
   "version": "3.7.3"
  }
 },
 "nbformat": 4,
 "nbformat_minor": 2
}
