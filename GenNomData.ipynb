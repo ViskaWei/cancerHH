{
 "cells": [
  {
   "cell_type": "code",
   "execution_count": 47,
   "metadata": {},
   "outputs": [
    {
     "data": {
      "image/png": "[encoded data removed]",
      "text/plain": [
       "<Figure size 432x288 with 1 Axes>"
      ]
     },
     "metadata": {
      "needs_background": "light"
     },
     "output_type": "display_data"
    }
   ],
   "source": [
    "import numpy.matlib\n",
    "import numpy as np\n",
    "from numpy.linalg import cholesky\n",
    "import matplotlib.pyplot as plt\n",
    "\n",
    "def genNormalDistributionData(mu, sigma, num):\n",
    "    np.random.seed(0)\n",
    "    data=np.random.normal(mu, sigma, sampleNo)\n",
    "    data_int=data.astype(int)\n",
    "    return data_int\n",
    "\n",
    "def saveData(data):\n",
    "    np.savetxt('data.csv', data, delimiter=',')\n",
    "\n",
    "d1=genNormalDistributionData(7.5, 2, 10000)\n",
    "d2=genNormalDistributionData(17.5, 2, 10000)\n",
    "d3=genNormalDistributionData(28.5, 2, 10000)\n",
    "\n",
    "d=np.hstack((d1,d2,d3))\n",
    "saveData(d)\n",
    "\n",
    "def draw_hist(lenths):\n",
    "    plt.hist(lenths, 300)\n",
    "    plt.xlim(0.0,40)\n",
    "    plt.ylabel('Frequency')\n",
    "    plt.show()\n",
    "\n",
    "draw_hist(d)"
   ]
  },
  {
   "cell_type": "code",
   "execution_count": null,
   "metadata": {},
   "outputs": [],
   "source": []
  }
 ],
 "metadata": {
  "kernelspec": {
   "display_name": "Python 3",
   "language": "python",
   "name": "python3"
  },
  "language_info": {
   "codemirror_mode": {
    "name": "ipython",
    "version": 3
   },
   "file_extension": ".py",
   "mimetype": "text/x-python",
   "name": "python",
   "nbconvert_exporter": "python",
   "pygments_lexer": "ipython3",
   "version": "3.7.3"
  }
 },
 "nbformat": 4,
 "nbformat_minor": 2
}
